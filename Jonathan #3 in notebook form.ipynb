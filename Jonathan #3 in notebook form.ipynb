{
 "cells": [
  {
   "cell_type": "code",
   "execution_count": 3,
   "metadata": {
    "collapsed": false
   },
   "outputs": [
    {
     "name": "stdout",
     "output_type": "stream",
     "text": [
      "atmospheric gas\n",
      "\n",
      "HELLO\n",
      "focused\n",
      "\n",
      "HELLO\n",
      "HELLO\n",
      "\n",
      "\n",
      "ghost\n",
      "\n",
      "\n",
      "\n",
      "HELLO\n",
      "\n",
      "\n",
      "explode\n",
      "\n",
      "HELLO\n",
      "HELLO\n"
     ]
    }
   ],
   "source": [
    "#open file of endings\n",
    "endings_txt = open('endings.txt', 'r')\n",
    "\n",
    "#create a list of list that seperates the three parts of the ending\n",
    "#'ending word', 'rhyth', 'beats'\n",
    "endings_list =[]\n",
    "for line in endings_txt:\n",
    "    #append each line to the endings list\n",
    "    endings_list.append(line.split(\"::\"))\n",
    "    #check what the list format looks like\n",
    "#print endings_list\n",
    "\n",
    "#repeat process for skeleton\n",
    "skeleton_txt = open('skeleton_SamuraiShowdown.txt', 'r')\n",
    "\n",
    "\n",
    "#create a list of list that seperates the three parts of the skeleton\n",
    "#'Prefix word', 'beats', 'ending word or XXX'\n",
    "skeleton_list = []\n",
    "for line in skeleton_txt:\n",
    "    #append each line to the skeleton_list\n",
    "    skeleton_list.append(line.split(\"::\"))\n",
    "    #check what the list format looks like\n",
    "#print skeleton_list\n",
    "\n",
    "#variable you will need to complete rap song\n",
    "rhythm = ''\n",
    "total_beats =''\n",
    "last_word =''\n",
    "missing_beats =''\n",
    "empty_ending = 'XXX'\n",
    "\n",
    "for rhyme in skeleton_list:\n",
    "    if rhyme[2].strip() != empty_ending:\n",
    "        print rhyme[2]\n",
    "    elif rhyme[2].strip() == empty_ending:\n",
    "        print \"HELLO\"\n",
    "   \n"
   ]
  },
  {
   "cell_type": "code",
   "execution_count": null,
   "metadata": {
    "collapsed": true
   },
   "outputs": [],
   "source": []
  }
 ],
 "metadata": {
  "kernelspec": {
   "display_name": "Python 2",
   "language": "python",
   "name": "python2"
  },
  "language_info": {
   "codemirror_mode": {
    "name": "ipython",
    "version": 2
   },
   "file_extension": ".py",
   "mimetype": "text/x-python",
   "name": "python",
   "nbconvert_exporter": "python",
   "pygments_lexer": "ipython2",
   "version": "2.7.11"
  }
 },
 "nbformat": 4,
 "nbformat_minor": 0
}
