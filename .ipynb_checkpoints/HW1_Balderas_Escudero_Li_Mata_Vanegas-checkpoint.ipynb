{
 "cells": [
  {
   "cell_type": "code",
   "execution_count": null,
   "metadata": {
    "collapsed": false
   },
   "outputs": [],
   "source": [
    "#Problem 1: Rock Paper Scissors\n",
    "import random #we need this to randomly select the rock paper or scissors\n",
    "print \"Hello, Human \\nWelcome to Rock,Paper, Scissors \\nPlease enter your choice of 'Rock', 'Paper','Scissors', or 'Quit'\"\n",
    "\n",
    "return_val = prs() #this runs the function and saves the return values in a tuple called return_val\n",
    "comp_choice = return_val[0] # this part assigns the first element of the tuple to computer choice\n",
    "user_choice = raw_input() \n",
    "\n",
    "if user_choice=='Rock' or user_choice=='Paper' or user_choice=='Scissors':\n",
    "    who_won(user_choice, comp_choice)\n",
    "elif user_choice==\"Quit\":\n",
    "    print \"Thanks for playing, see you soon!\"\n",
    "    exit()\n",
    "else:\n",
    "    print \"Invalid input, please try again\"\n",
    "    user_choice = raw_input() \n",
    "    who_won(user_choice, comp_choice)\n",
    "    \n"
   ]
  },
  {
   "cell_type": "code",
   "execution_count": null,
   "metadata": {
    "collapsed": false
   },
   "outputs": [],
   "source": [
    "#function that will be used to calculate the computers choice of rock paper scissors\n",
    "def prs(): \n",
    "        round = 0\n",
    "        comp_choice = random.choice(['Rock','Paper','Scissors'])\n",
    "        if 1==1: #i put this here to make sure this runs everytime it will have to change when we include the counting ability\n",
    "                round +=1\n",
    "        else:\n",
    "            print \"dont forget to add the part that counts the amount of times something was chosen\"\n",
    "        \n",
    "        return (comp_choice ,round)"
   ]
  },
  {
   "cell_type": "code",
   "execution_count": null,
   "metadata": {
    "collapsed": true
   },
   "outputs": [],
   "source": [
    "#function that will be used to decide the winner of the game.\n",
    "def who_won(user_choice,comp_choice):\n",
    "    win_count = 0\n",
    "    if user_choice==comp_choice:\n",
    "        print \"You and the computer tied!\"\n",
    "    elif user_choice ==\"Rock\" and comp_choice=='Scissors':\n",
    "        print \"Rock Smashes Scissors, YOU WIN!\"\n",
    "        win_count+=1\n",
    "    elif user_choice ==\"Rock\" and comp_choice=='Paper':\n",
    "        print \"Paper covers Rock, YOU LOSE!\"\n",
    "    elif user_choice ==\"Paper\" and comp_choice=='Scissors':\n",
    "        print \"Scissors cuts Paper, YOU LOSE\"\n",
    "    elif user_choice ==\"Paper\" and comp_choice=='Rock':\n",
    "        print \"Paper covers Rock, YOU WIN!\"\n",
    "        win_count+=1\n",
    "    elif user_choice ==\"Scissors\" and comp_choice=='Rock':\n",
    "        print \"Rock  smashes scissors, YOU LOSE!\"\n",
    "    elif user_choice ==\"Scissors\" and comp_choice=='Paper':\n",
    "        print \"Scissors cuts Paper, YOU WIN!\"\n",
    "        win_count+=1\n",
    "    "
   ]
  },
  {
   "cell_type": "code",
   "execution_count": null,
   "metadata": {
    "collapsed": false
   },
   "outputs": [],
   "source": []
  },
  {
   "cell_type": "code",
   "execution_count": null,
   "metadata": {
    "collapsed": false
   },
   "outputs": [],
   "source": []
  },
  {
   "cell_type": "code",
   "execution_count": null,
   "metadata": {
    "collapsed": false
   },
   "outputs": [],
   "source": []
  },
  {
   "cell_type": "code",
   "execution_count": null,
   "metadata": {
    "collapsed": false
   },
   "outputs": [],
   "source": []
  },
  {
   "cell_type": "code",
   "execution_count": null,
   "metadata": {
    "collapsed": true
   },
   "outputs": [],
   "source": []
  }
 ],
 "metadata": {
  "kernelspec": {
   "display_name": "Python 2",
   "language": "python",
   "name": "python2"
  },
  "language_info": {
   "codemirror_mode": {
    "name": "ipython",
    "version": 2
   },
   "file_extension": ".py",
   "mimetype": "text/x-python",
   "name": "python",
   "nbconvert_exporter": "python",
   "pygments_lexer": "ipython2",
   "version": "2.7.11"
  }
 },
 "nbformat": 4,
 "nbformat_minor": 0
}
