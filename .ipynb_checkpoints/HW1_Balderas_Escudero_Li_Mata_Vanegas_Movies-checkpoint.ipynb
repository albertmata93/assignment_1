{
 "cells": [
  {
   "cell_type": "code",
   "execution_count": null,
   "metadata": {
    "collapsed": false
   },
   "outputs": [],
   "source": [
    "#Problem 2: Movies\n",
    "\n",
    "#create dictionary of movies\n",
    "movies = {}\n",
    "\n",
    "#open movies file\n",
    "fp = open(\"movies.csv\",\"r\")\n",
    "\n",
    "for line in fp:\n",
    "    movies = dictMaker(line, movies)\n",
    "#printing to check how the dictionary was created\n",
    "# notice that there are duplicates because I couldn't get the\n",
    "#rstrip and lstrip to strip new line chracters\n",
    "alpha = movies.keys()\n",
    "alpha.sort()\n",
    "print alpha\n",
    "\n",
    "#prompt the user for movie name 1 and 2\n",
    "movie1 = str(raw_input(\"Enter movie name 1: \"))\n",
    "movie2 = str(raw_input(\"Enter movie name 2: \"))"
   ]
  },
  {
   "cell_type": "code",
   "execution_count": null,
   "metadata": {
    "collapsed": false
   },
   "outputs": [],
   "source": [
    "#function to create dictionary of movie names from file, with actors as values\n",
    "def dictMaker(line, moviesDict):\n",
    "    listline = line.split(\",\")\n",
    "    \n",
    "    listline[0].lstrip(\" \")\n",
    "    listline[0].rstrip(\"\\n\")\n",
    "    for i in range(1, len(listline)):\n",
    "        if listline[i] in moviesDict:\n",
    "            listline[i].rstrip(\"\\n\")\n",
    "            listline[i].lstrip(\" \")\n",
    "            moviesDict[listline[i]].append(listline[0])\n",
    "        else:\n",
    "            moviesDict[listline[i]] = [listline[0]]\n",
    "\n",
    "    return moviesDict"
   ]
  },
  {
   "cell_type": "code",
   "execution_count": null,
   "metadata": {
    "collapsed": true
   },
   "outputs": [],
   "source": []
  },
  {
   "cell_type": "code",
   "execution_count": null,
   "metadata": {
    "collapsed": true
   },
   "outputs": [],
   "source": []
  }
 ],
 "metadata": {
  "kernelspec": {
   "display_name": "Python 2",
   "language": "python",
   "name": "python2"
  },
  "language_info": {
   "codemirror_mode": {
    "name": "ipython",
    "version": 2
   },
   "file_extension": ".py",
   "mimetype": "text/x-python",
   "name": "python",
   "nbconvert_exporter": "python",
   "pygments_lexer": "ipython2",
   "version": "2.7.11"
  }
 },
 "nbformat": 4,
 "nbformat_minor": 0
}
