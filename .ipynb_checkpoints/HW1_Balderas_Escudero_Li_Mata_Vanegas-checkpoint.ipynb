{
 "cells": [
  {
   "cell_type": "code",
   "execution_count": 64,
   "metadata": {
    "collapsed": false
   },
   "outputs": [
    {
     "name": "stdout",
     "output_type": "stream",
     "text": [
      "Hello, Human \n",
      "Welcome to Rock,Paper, Scissors \n",
      "Please enter your choice of 'Rock', 'Paper', or 'Scissors'\n",
      "Rock\n"
     ]
    }
   ],
   "source": [
    "#Problem 1: Rock Paper Scissors\n",
    "print \"Hello, Human \\nWelcome to Rock,Paper, Scissors \\nPlease enter your choice of 'Rock', 'Paper', or 'Scissors'\"\n",
    "user_choice = raw_input()\n",
    "\n",
    "While user_choice==\"Rock\" or user_choice==\"Paper\" or user_choice == \"Scissors\":\n",
    "\n",
    "#import numpy\n",
    "#round = 0\n",
    "#comp_choice = \"\"\n",
    "#user_choice= raw_input(\n",
    "#if round == 0:\n",
    " #   rand_num = numpy.random.randint(1,4)\n",
    "     #if rand_num ==1:\n",
    "        #comp_choice = \"Rock\"\n",
    "    #    round +=1\n",
    "    #elif rand_num==2:\n",
    "     #   comp_choice = \"Paper\"\n",
    "        #round +=1\n",
    "    #else:\n",
    "        #comp_choice =\"Scissors\"\n",
    "        #round +=1\n",
    "        \n",
    "#else:\n",
    "    #comp_choice = \"Rock\"\n"
   ]
  },
  {
   "cell_type": "code",
   "execution_count": 34,
   "metadata": {
    "collapsed": false
   },
   "outputs": [],
   "source": [
    "#Problem 2: Movies\n"
   ]
  },
  {
   "cell_type": "code",
   "execution_count": 35,
   "metadata": {
    "collapsed": true
   },
   "outputs": [],
   "source": [
    "#Problem 3: Song Writing"
   ]
  },
  {
   "cell_type": "code",
   "execution_count": null,
   "metadata": {
    "collapsed": true
   },
   "outputs": [],
   "source": []
  }
 ],
 "metadata": {
  "kernelspec": {
   "display_name": "Python 2",
   "language": "python",
   "name": "python2"
  },
  "language_info": {
   "codemirror_mode": {
    "name": "ipython",
    "version": 2
   },
   "file_extension": ".py",
   "mimetype": "text/x-python",
   "name": "python",
   "nbconvert_exporter": "python",
   "pygments_lexer": "ipython2",
   "version": "2.7.11"
  }
 },
 "nbformat": 4,
 "nbformat_minor": 0
}
