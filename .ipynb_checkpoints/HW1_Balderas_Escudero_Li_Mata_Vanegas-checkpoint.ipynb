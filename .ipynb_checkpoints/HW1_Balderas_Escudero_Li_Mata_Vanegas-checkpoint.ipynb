{
 "cells": [
  {
   "cell_type": "code",
   "execution_count": null,
   "metadata": {
    "collapsed": false
   },
   "outputs": [],
   "source": [
    "#Problem 1: Rock Paper Scissors\n",
    "import random #we need this to randomly select the rock paper or scissors\n",
    "print \"Hello, Human \\nWelcome to Rock,Paper, Scissors \\nPlease enter your choice of 'Rock', 'Paper','Scissors', or 'Quit'\"\n",
    "\n",
    "#create flag to signal stop of program\n",
    "quit = False\n",
    "\n",
    "#variable to record number of games\n",
    "totalgames = 0\n",
    "\n",
    "#variable to record human wins\n",
    "totalwins = 0\n",
    "\n",
    "#dictionary to track user's choice\n",
    "compbrains = {'Rock':0,'Paper':0,'Scissors':0}\n",
    "\n",
    "#run program until user says \"Quit\"\n",
    "while not quit:\n",
    "    return_val = prs(compbrains) #this runs the function and saves the return values in a tuple called return_val\n",
    "    comp_choice = return_val # this part assigns the first element of the tuple to computer choice\n",
    "    user_choice = raw_input() \n",
    "    print \"Comps: \" + str(comp_choice)\n",
    "    print \"user: \" + str(user_choice)\n",
    "    print str(compbrains)\n",
    "\n",
    "    if user_choice=='Rock' or user_choice=='Paper' or user_choice=='Scissors':\n",
    "        compbrains[user_choice]+=1\n",
    "        win = who_won(user_choice, comp_choice)\n",
    "        if win:\n",
    "            totalwins += 1\n",
    "        totalgames +=1\n",
    "    elif user_choice==\"Quit\":\n",
    "        print \"\\nYou won \" + str(totalwins) + \" out of \" + str(totalgames) + \" games.\"\n",
    "        print \"Thanks for playing, see you soon!\"\n",
    "        quit = True\n",
    "    else:\n",
    "        print \"Invalid input, please try again\"  \n"
   ]
  },
  {
   "cell_type": "code",
   "execution_count": null,
   "metadata": {
    "collapsed": false
   },
   "outputs": [],
   "source": [
    "#function that will be used to calculate the computers choice of rock paper scissors\n",
    "def prs(compbrains): \n",
    "        # use computer brains if any play was chosen by the human half of the time or more\n",
    "        if compbrains['Rock'] >= .5*(compbrains['Rock']+compbrains['Paper']+compbrains[\"Scissors\"]):\n",
    "            comp_choice = 'Paper'\n",
    "        elif compbrains['Paper'] >= .5*(compbrains['Rock']+compbrains['Paper']+compbrains[\"Scissors\"]):\n",
    "            comp_choice = 'Scissors'\n",
    "        elif compbrains['Scissors'] >= .5*(compbrains['Rock']+compbrains['Paper']+compbrains[\"Scissors\"]):\n",
    "            comp_choice = 'Rock'\n",
    "        #otherwise randomly select computer play\n",
    "        else:\n",
    "            comp_choice = random.choice(['Rock','Paper','Scissors'])\n",
    "        \n",
    "        \n",
    "        return (comp_choice)"
   ]
  },
  {
   "cell_type": "code",
   "execution_count": null,
   "metadata": {
    "collapsed": true
   },
   "outputs": [],
   "source": [
    "#function that will be used to decide the winner of the game.\n",
    "#returns true if human wins, false otherwise\n",
    "def who_won(user_choice,comp_choice):\n",
    "    if user_choice==comp_choice:\n",
    "        print \"You and the computer tied!\"\n",
    "        return False\n",
    "    elif user_choice ==\"Rock\" and comp_choice=='Scissors':\n",
    "        print \"Rock Smashes Scissors, YOU WIN!\"\n",
    "        return True\n",
    "    elif user_choice ==\"Rock\" and comp_choice=='Paper':\n",
    "        print \"Paper covers Rock, YOU LOSE!\"\n",
    "        return False\n",
    "    elif user_choice ==\"Paper\" and comp_choice=='Scissors':\n",
    "        print \"Scissors cuts Paper, YOU LOSE\"\n",
    "        return False\n",
    "    elif user_choice ==\"Paper\" and comp_choice=='Rock':\n",
    "        print \"Paper covers Rock, YOU WIN!\"\n",
    "        return True\n",
    "    elif user_choice ==\"Scissors\" and comp_choice=='Rock':\n",
    "        print \"Rock  smashes scissors, YOU LOSE!\"\n",
    "        return False\n",
    "    elif user_choice ==\"Scissors\" and comp_choice=='Paper':\n",
    "        print \"Scissors cuts Paper, YOU WIN!\"\n",
    "        return True\n",
    "    return False\n",
    "    "
   ]
  },
  {
   "cell_type": "code",
   "execution_count": null,
   "metadata": {
    "collapsed": false
   },
   "outputs": [],
   "source": []
  },
  {
   "cell_type": "code",
   "execution_count": null,
   "metadata": {
    "collapsed": false
   },
   "outputs": [],
   "source": []
  },
  {
   "cell_type": "code",
   "execution_count": null,
   "metadata": {
    "collapsed": false
   },
   "outputs": [],
   "source": []
  },
  {
   "cell_type": "code",
   "execution_count": null,
   "metadata": {
    "collapsed": false
   },
   "outputs": [],
   "source": []
  },
  {
   "cell_type": "code",
   "execution_count": null,
   "metadata": {
    "collapsed": true
   },
   "outputs": [],
   "source": []
  },
  {
   "cell_type": "code",
   "execution_count": null,
   "metadata": {
    "collapsed": true
   },
   "outputs": [],
   "source": []
  },
  {
   "cell_type": "code",
   "execution_count": null,
   "metadata": {
    "collapsed": true
   },
   "outputs": [],
   "source": []
  },
  {
   "cell_type": "code",
   "execution_count": null,
   "metadata": {
    "collapsed": true
   },
   "outputs": [],
   "source": []
  },
  {
   "cell_type": "code",
   "execution_count": null,
   "metadata": {
    "collapsed": true
   },
   "outputs": [],
   "source": []
  },
  {
   "cell_type": "code",
   "execution_count": null,
   "metadata": {
    "collapsed": true
   },
   "outputs": [],
   "source": []
  }
 ],
 "metadata": {
  "kernelspec": {
   "display_name": "Python 2",
   "language": "python",
   "name": "python2"
  },
  "language_info": {
   "codemirror_mode": {
    "name": "ipython",
    "version": 2
   },
   "file_extension": ".py",
   "mimetype": "text/x-python",
   "name": "python",
   "nbconvert_exporter": "python",
   "pygments_lexer": "ipython2",
   "version": "2.7.11"
  }
 },
 "nbformat": 4,
 "nbformat_minor": 0
}
