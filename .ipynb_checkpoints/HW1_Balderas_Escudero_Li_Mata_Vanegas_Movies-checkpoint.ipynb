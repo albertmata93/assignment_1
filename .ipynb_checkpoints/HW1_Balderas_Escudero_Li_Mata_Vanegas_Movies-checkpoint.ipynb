{
 "cells": [
  {
   "cell_type": "code",
   "execution_count": null,
   "metadata": {
    "collapsed": false
   },
   "outputs": [],
   "source": [
    "#Problem 2: Movies\n",
    "\n",
    "#create dictionary of movies\n",
    "movies = {}\n",
    "\n",
    "#open movies file\n",
    "fp = open(\"movies.csv\",\"r\")\n",
    "\n",
    "line = fp.readline()\n",
    "line.rstrip()\n",
    "listline = line.split(\",\")\n",
    "for item in listline:\n",
    "    item.rstrip()\n",
    "    item.lstrip()\n",
    "for i in range(1, len(listline) -1):\n",
    "    if listline[i] in movies:\n",
    "        movies[listline[i]].append(listline[0])\n",
    "    else:\n",
    "        movies[listline[i]] = listline[0]\n",
    "print listline\n",
    "print movies\n",
    "print fp.readline()\n",
    "print fp.readline()\n",
    "print fp.readline()\n",
    "\n",
    "#prompt the user for movie name 1 and 2\n",
    "movie1 = str(raw_input(\"Enter movie name 1: \"))\n",
    "movie2 = str(raw_input(\"Enter movie name 2: \"))"
   ]
  },
  {
   "cell_type": "code",
   "execution_count": 1,
   "metadata": {
    "collapsed": true
   },
   "outputs": [],
   "source": [
    "#function to create dictionary of movie names from file, with actors as values\n",
    "def dictMaker(line, moviesDict):\n",
    "    line.rstrip()\n",
    "    listline = line.split(\",\")\n",
    "    for item in listline:\n",
    "        item.rstrip()\n",
    "        item.lstrip()\n",
    "    for i in range(1, len(listline) -1):\n",
    "        if listline[i] in movies:\n",
    "            movies[listline[i]].append(listline[0])\n",
    "        else:\n",
    "            movies[listline[i]] = listline[0]\n",
    "    "
   ]
  },
  {
   "cell_type": "code",
   "execution_count": null,
   "metadata": {
    "collapsed": true
   },
   "outputs": [],
   "source": []
  },
  {
   "cell_type": "code",
   "execution_count": null,
   "metadata": {
    "collapsed": false
   },
   "outputs": [],
   "source": [
    "\n"
   ]
  },
  {
   "cell_type": "code",
   "execution_count": null,
   "metadata": {
    "collapsed": true
   },
   "outputs": [],
   "source": []
  }
 ],
 "metadata": {
  "kernelspec": {
   "display_name": "Python 2",
   "language": "python",
   "name": "python2"
  },
  "language_info": {
   "codemirror_mode": {
    "name": "ipython",
    "version": 2
   },
   "file_extension": ".py",
   "mimetype": "text/x-python",
   "name": "python",
   "nbconvert_exporter": "python",
   "pygments_lexer": "ipython2",
   "version": "2.7.11"
  }
 },
 "nbformat": 4,
 "nbformat_minor": 0
}
